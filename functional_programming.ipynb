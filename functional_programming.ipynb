{
  "nbformat": 4,
  "nbformat_minor": 0,
  "metadata": {
    "colab": {
      "provenance": [],
      "collapsed_sections": [],
      "authorship_tag": "ABX9TyOEWnbr8WXsDBbVy9yFGOEy",
      "include_colab_link": true
    },
    "kernelspec": {
      "name": "python3",
      "display_name": "Python 3"
    },
    "language_info": {
      "name": "python"
    }
  },
  "cells": [
    {
      "cell_type": "markdown",
      "metadata": {
        "id": "view-in-github",
        "colab_type": "text"
      },
      "source": [
        "<a href=\"https://colab.research.google.com/github/lifelonglearnerit/python_functional_programming/blob/main/functional_programming.ipynb\" target=\"_parent\"><img src=\"https://colab.research.google.com/assets/colab-badge.svg\" alt=\"Open In Colab\"/></a>"
      ]
    },
    {
      "cell_type": "markdown",
      "source": [
        "# Functional Programming HOWTO\n",
        "https://docs.python.org/3/howto/functional.html?highlight=iterator#functional-howto-iterators  \n",
        "\n",
        "In a functional program, input flows through a set of functions. Each function operates on its input and produces some output. Functional style discourages functions with side effects that modify internal state or make other changes that aren’t visible in the function’s return value. Functions that have no side effects at all are called purely functional. Avoiding side effects means not using data structures that get updated as a program runs; every function’s output must only depend on its input."
      ],
      "metadata": {
        "id": "Xk2oPQ-LwAn2"
      }
    },
    {
      "cell_type": "markdown",
      "source": [
        "Functional programming, or FP for short, is a programming paradigm in which the primary method of computation is the evaluation of functions.  \n",
        "\n",
        "  \n",
        "In Python, functions are first-class citizens. That means functions have the same characteristics as values like strings and numbers. Anything you would expect to be able to do with a string or number you can do with a function as well."
      ],
      "metadata": {
        "id": "PdbZt2h-Bm3C"
      }
    },
    {
      "cell_type": "markdown",
      "source": [
        "## lambda $λ$ functions  \n"
      ],
      "metadata": {
        "id": "yZgeAdR2AX-9"
      }
    },
    {
      "cell_type": "code",
      "source": [
        "\"\"\"lambda <parameter_list>: <experssion>\"\"\"\n",
        "reverse = lambda s: s[::-1]\n",
        "reverse('Kajak')"
      ],
      "metadata": {
        "colab": {
          "base_uri": "https://localhost:8080/",
          "height": 36
        },
        "id": "zTLi6ov9AxyM",
        "outputId": "f50843b1-6595-4fb7-8d40-1857ae5a6e52"
      },
      "execution_count": null,
      "outputs": [
        {
          "output_type": "execute_result",
          "data": {
            "text/plain": [
              "'kajaK'"
            ],
            "application/vnd.google.colaboratory.intrinsic+json": {
              "type": "string"
            }
          },
          "metadata": {},
          "execution_count": 2
        }
      ]
    },
    {
      "cell_type": "markdown",
      "source": [
        "it’s not necessary to assign a variable to a lambda expression before calling it. You can also call the function defined by a lambda expression directly:"
      ],
      "metadata": {
        "id": "9uj_0v6SBt4O"
      }
    },
    {
      "cell_type": "code",
      "source": [
        "A = [1, 2, 3, 4, 5, 6, 7, 8]\n",
        "(lambda s: s[::-1])(A)"
      ],
      "metadata": {
        "colab": {
          "base_uri": "https://localhost:8080/"
        },
        "id": "1cgwNMbCBuzR",
        "outputId": "8e96ca29-af78-40b5-c34a-8328d9c35b68"
      },
      "execution_count": null,
      "outputs": [
        {
          "output_type": "execute_result",
          "data": {
            "text/plain": [
              "[8, 7, 6, 5, 4, 3, 2, 1]"
            ]
          },
          "metadata": {},
          "execution_count": 6
        }
      ]
    },
    {
      "cell_type": "code",
      "source": [
        "# avg of 3 numbers \n",
        "(lambda x1, x2, x3: (x1 + x2 + x3) / 3)(1, 2, 3)"
      ],
      "metadata": {
        "colab": {
          "base_uri": "https://localhost:8080/"
        },
        "id": "Pd0GcoH5CQlk",
        "outputId": "92750120-5506-4e4c-f14c-5cf74d4eb6d6"
      },
      "execution_count": null,
      "outputs": [
        {
          "output_type": "execute_result",
          "data": {
            "text/plain": [
              "2.0"
            ]
          },
          "metadata": {},
          "execution_count": 8
        }
      ]
    },
    {
      "cell_type": "code",
      "source": [
        "# reverse len \n",
        "dog = ['N', 'Lucy', 'Enka', 'Lucyna']\n",
        "sorted(dog, key=lambda d: -len(d))"
      ],
      "metadata": {
        "colab": {
          "base_uri": "https://localhost:8080/"
        },
        "id": "lBvMt1E9Au6t",
        "outputId": "c9351619-ec59-48bd-f6a1-49548de90f2b"
      },
      "execution_count": null,
      "outputs": [
        {
          "output_type": "execute_result",
          "data": {
            "text/plain": [
              "['Lucyna', 'Lucy', 'Enka', 'N']"
            ]
          },
          "metadata": {},
          "execution_count": 9
        }
      ]
    },
    {
      "cell_type": "code",
      "source": [
        "# lambda without parameters, returns value\n",
        "sense_of_the_life_and_everything = lambda: 42\n",
        "sense_of_the_life_and_everything()"
      ],
      "metadata": {
        "colab": {
          "base_uri": "https://localhost:8080/"
        },
        "id": "8JG5G8wHAir3",
        "outputId": "7778be4b-f272-46ca-8fc0-e6c77fe1457e"
      },
      "execution_count": null,
      "outputs": [
        {
          "output_type": "execute_result",
          "data": {
            "text/plain": [
              "42"
            ]
          },
          "metadata": {},
          "execution_count": 10
        }
      ]
    },
    {
      "cell_type": "code",
      "execution_count": null,
      "metadata": {
        "colab": {
          "base_uri": "https://localhost:8080/"
        },
        "id": "lcjecng7BhIK",
        "outputId": "224b2881-970f-4965-d415-c126e82a4586"
      },
      "outputs": [
        {
          "output_type": "execute_result",
          "data": {
            "text/plain": [
              "(1, 2, 4, 8, 16)"
            ]
          },
          "metadata": {},
          "execution_count": 13
        }
      ],
      "source": [
        "# returning tuple from the lambda function \n",
        "(lambda x: (x**0, x**1, x**2, x**3, x**4))(2)"
      ]
    },
    {
      "cell_type": "code",
      "source": [
        "(lambda *args: sum(args))(1,2,3)"
      ],
      "metadata": {
        "colab": {
          "base_uri": "https://localhost:8080/"
        },
        "id": "3iW7yQbKVjey",
        "outputId": "fcdb168a-42c2-4d82-9e2b-a4907f319c45"
      },
      "execution_count": null,
      "outputs": [
        {
          "output_type": "execute_result",
          "data": {
            "text/plain": [
              "6"
            ]
          },
          "metadata": {},
          "execution_count": 15
        }
      ]
    },
    {
      "cell_type": "code",
      "source": [
        "(lambda **kwargs: sum(kwargs.values()))(one=1, two=2, three=3)"
      ],
      "metadata": {
        "colab": {
          "base_uri": "https://localhost:8080/"
        },
        "id": "KJ_-rwbOVsOl",
        "outputId": "aeb8789d-2b78-4267-b00d-d86c1ac03260"
      },
      "execution_count": null,
      "outputs": [
        {
          "output_type": "execute_result",
          "data": {
            "text/plain": [
              "6"
            ]
          },
          "metadata": {},
          "execution_count": 17
        }
      ]
    },
    {
      "cell_type": "markdown",
      "source": [
        "A lambda expression has its own local namespace, so the parameter names don’t conflict with identical names in the global namespace. A lambda expression can access variables in the global namespace, but it can’t modify them."
      ],
      "metadata": {
        "id": "tW5wXq-3JFfb"
      }
    },
    {
      "cell_type": "code",
      "source": [
        "my_list = ['Real', ' Python']\n",
        "(lambda x: ''.join(x))(my_list)"
      ],
      "metadata": {
        "colab": {
          "base_uri": "https://localhost:8080/",
          "height": 36
        },
        "id": "16G7ZzdSJGY7",
        "outputId": "60fd719b-95f8-4c89-a4f6-1acf66455109"
      },
      "execution_count": null,
      "outputs": [
        {
          "output_type": "execute_result",
          "data": {
            "text/plain": [
              "'Real Python'"
            ],
            "application/vnd.google.colaboratory.intrinsic+json": {
              "type": "string"
            }
          },
          "metadata": {},
          "execution_count": 12
        }
      ]
    },
    {
      "cell_type": "markdown",
      "source": [
        "#map()  \n",
        "With map(), you can apply a function to each element in an iterable in turn, and map() will return an iterator that yields the results. This can allow for some very concise code because a map() statement can often take the place of an explicit loop."
      ],
      "metadata": {
        "id": "Muey8wGwXfuX"
      }
    },
    {
      "cell_type": "code",
      "source": [
        "# map(<f>, <iterable>)"
      ],
      "metadata": {
        "id": "3qC0GY8jXult"
      },
      "execution_count": null,
      "outputs": []
    },
    {
      "cell_type": "markdown",
      "source": [
        "**map()** doesn’t return a list. It returns an iterator called a *map object*. To obtain the values from the iterator, you need to either iterate over it or use list()"
      ],
      "metadata": {
        "id": "q5QkXenAYo2O"
      }
    },
    {
      "cell_type": "code",
      "source": [
        "dog = ['N', 'Lucy', 'Enka', 'Lucyna']\n",
        "iterator = map(lambda s: s[::-1], dog)\n",
        "# list(iterator)"
      ],
      "metadata": {
        "id": "aqcTpfkuXkGW"
      },
      "execution_count": null,
      "outputs": []
    },
    {
      "cell_type": "code",
      "source": [
        "print(next(iterator))\n",
        "print(next(iterator))\n",
        "print(next(iterator))\n",
        "print(next(iterator))"
      ],
      "metadata": {
        "colab": {
          "base_uri": "https://localhost:8080/"
        },
        "id": "OJwC6P-zWc-K",
        "outputId": "01f788f1-6fbd-4748-b026-181f96c46e85"
      },
      "execution_count": null,
      "outputs": [
        {
          "output_type": "stream",
          "name": "stdout",
          "text": [
            "N\n",
            "ycuL\n",
            "aknE\n",
            "anycuL\n"
          ]
        }
      ]
    },
    {
      "cell_type": "markdown",
      "source": [
        "**map()** applies a function to each object of a list in turn, it can often eliminate the need for an explicit loop. In this case, you can use map() to apply str() to the list objects before joining"
      ],
      "metadata": {
        "id": "UnsoQiKgFZ3Q"
      }
    },
    {
      "cell_type": "code",
      "source": [
        "\"+\".join(map(str, [1, 2, 3, 4, 5]))"
      ],
      "metadata": {
        "colab": {
          "base_uri": "https://localhost:8080/",
          "height": 36
        },
        "id": "-60qfDvdFcPa",
        "outputId": "e38ec38d-6194-42f9-be63-c73e6b8ff8ff"
      },
      "execution_count": null,
      "outputs": [
        {
          "output_type": "execute_result",
          "data": {
            "text/plain": [
              "'1+2+3+4+5'"
            ],
            "application/vnd.google.colaboratory.intrinsic+json": {
              "type": "string"
            }
          },
          "metadata": {},
          "execution_count": 1
        }
      ]
    },
    {
      "cell_type": "code",
      "source": [
        "# map(<f>, <iterable₁>, <iterable₂>, ..., <iterableₙ>)\n",
        "\"\"\"\n",
        "map(<f>, <iterable1>, <iterable2>, ..., <iterablen>) applies <f> to the elements\n",
        "in each <iterablei> in parallel and returns an iterator that yields the results.\n",
        "\"\"\""
      ],
      "metadata": {
        "colab": {
          "base_uri": "https://localhost:8080/",
          "height": 54
        },
        "id": "GXIZM2WnFh1U",
        "outputId": "678afaf3-97c1-472d-f49b-febd8c2573ba"
      },
      "execution_count": null,
      "outputs": [
        {
          "output_type": "execute_result",
          "data": {
            "text/plain": [
              "'\\nmap(<f>, <iterable1>, <iterable2>, ..., <iterablen>) applies <f> to the elements\\nin each <iterablei> in parallel and returns an iterator that yields the results.\\n'"
            ],
            "application/vnd.google.colaboratory.intrinsic+json": {
              "type": "string"
            }
          },
          "metadata": {},
          "execution_count": 2
        }
      ]
    },
    {
      "cell_type": "markdown",
      "source": [
        "![image.png](data:image/png;base64,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)"
      ],
      "metadata": {
        "id": "wWxBtAFSGYY5"
      }
    },
    {
      "cell_type": "code",
      "source": [
        "list(map(lambda a, b, c: a + b + c, [1, 2, 3], [10, 20, 30], [100, 200, 300]))"
      ],
      "metadata": {
        "colab": {
          "base_uri": "https://localhost:8080/"
        },
        "id": "X3VcD0pnam7R",
        "outputId": "d544ccd8-831d-4770-f86e-3520d9e056c0"
      },
      "execution_count": null,
      "outputs": [
        {
          "output_type": "execute_result",
          "data": {
            "text/plain": [
              "[111, 222, 333]"
            ]
          },
          "metadata": {},
          "execution_count": 3
        }
      ]
    },
    {
      "cell_type": "code",
      "source": [
        "list(\n",
        "    map(\n",
        "        (lambda a, b, c: a + b + c), \n",
        "        [1, 2, 3], \n",
        "        [10, 20, 30], \n",
        "        [100, 200, 300]\n",
        "        )\n",
        "    )"
      ],
      "metadata": {
        "colab": {
          "base_uri": "https://localhost:8080/"
        },
        "id": "UBLrANVVGh6T",
        "outputId": "e587108f-1ebd-45b7-fdbc-ddefbe4c679d"
      },
      "execution_count": null,
      "outputs": [
        {
          "output_type": "execute_result",
          "data": {
            "text/plain": [
              "[111, 222, 333]"
            ]
          },
          "metadata": {},
          "execution_count": 4
        }
      ]
    },
    {
      "cell_type": "markdown",
      "source": [
        "# fliter()\n",
        "allows you to select or filter items from an iterable based on evaluation of the given function  \n",
        "```filter(f(), iterable)```\n"
      ],
      "metadata": {
        "id": "FBHufGIDHapy"
      }
    },
    {
      "cell_type": "code",
      "source": [
        "\"\"\"\n",
        "filter(<f>, <iterable>) applies function <f> to each element of <iterable> \n",
        "and returns an iterator that yields all items for which <f> is truthy. \n",
        "Conversely, it filters out all items for which <f> is falsy.\n",
        "\"\"\"\n",
        "list(\n",
        "    filter(\n",
        "        (lambda x: x > 100),\n",
        "        [1, 111, 2, 222, 3, 333]\n",
        "    )\n",
        ")"
      ],
      "metadata": {
        "colab": {
          "base_uri": "https://localhost:8080/"
        },
        "id": "VASJhl1dH_Fx",
        "outputId": "ea5a423a-e7de-4981-edca-d6d839277b88"
      },
      "execution_count": null,
      "outputs": [
        {
          "output_type": "execute_result",
          "data": {
            "text/plain": [
              "[111, 222, 333]"
            ]
          },
          "metadata": {},
          "execution_count": 7
        }
      ]
    },
    {
      "cell_type": "markdown",
      "source": [],
      "metadata": {
        "id": "oxvEGZIV2AHr"
      }
    },
    {
      "cell_type": "code",
      "source": [
        "# is even \n",
        "print(list(filter((lambda x: x % 2 == 0), [0, 1, 2, 3, 4, 5, 6, 7, 8, 9])))\n",
        "print(list(filter((lambda x: x % 2 == 0), range(10))))\n",
        "# is odd\n",
        "print(\n",
        "    list(\n",
        "        filter(\n",
        "            (lambda x: x % 2 != 0),\n",
        "            [0, 1, 2, 3, 4, 5, 6, 7, 8, 9]\n",
        "        )\n",
        "    )\n",
        ")"
      ],
      "metadata": {
        "colab": {
          "base_uri": "https://localhost:8080/"
        },
        "id": "cjpVu-GmHzsa",
        "outputId": "28f5a682-3799-4e39-c9f2-06dab0be926a"
      },
      "execution_count": null,
      "outputs": [
        {
          "output_type": "stream",
          "name": "stdout",
          "text": [
            "[0, 2, 4, 6, 8]\n",
            "[0, 2, 4, 6, 8]\n",
            "[1, 3, 5, 7, 9]\n"
          ]
        }
      ]
    },
    {
      "cell_type": "code",
      "source": [
        "animals = [\"cat\", \"Cat\", \"CAT\", \"dog\", \"Dog\", \"DOG\", \"emu\", \"Emu\", \"EMU\"]\n",
        "\n",
        "list(filter((lambda word: word.isupper()), animals))"
      ],
      "metadata": {
        "colab": {
          "base_uri": "https://localhost:8080/"
        },
        "id": "7zANU_yTIz23",
        "outputId": "52b6475d-5ccb-4f2b-e5c7-752c0c5e0676"
      },
      "execution_count": null,
      "outputs": [
        {
          "output_type": "execute_result",
          "data": {
            "text/plain": [
              "['CAT', 'DOG', 'EMU']"
            ]
          },
          "metadata": {},
          "execution_count": 1
        }
      ]
    },
    {
      "cell_type": "markdown",
      "source": [
        "\n",
        "The first argument, function, must be a single-argument function. Typically, you provide a predicate (Boolean-valued) function to this argument. In other words, you provide a function that returns either True or False according to a specific condition."
      ],
      "metadata": {
        "id": "enGhYGh82Bng"
      }
    },
    {
      "cell_type": "markdown",
      "source": [],
      "metadata": {
        "id": "K4zMP1oX2dZW"
      }
    },
    {
      "cell_type": "code",
      "source": [
        "# extract positive numbers \n",
        "numbers = [-2, -1, 0, 1, 2]\n",
        "def positive_numb(lst: list) -> list:\n",
        "    pos_numbs = list()\n",
        "    for number in lst:\n",
        "        if number > 0:\n",
        "            pos_numbs.append(number)\n",
        "    return pos_numbs\n",
        "print(positive_numb(numbers))\n",
        "\n",
        "pn = [x for x in numbers if x > 0]\n",
        "print(pn)\n",
        "\n",
        "print(list(filter(lambda n: n > 0, numbers)))"
      ],
      "metadata": {
        "colab": {
          "base_uri": "https://localhost:8080/"
        },
        "id": "WNOLWift05_u",
        "outputId": "5ac77426-18c1-409e-9228-b378429dc56b"
      },
      "execution_count": null,
      "outputs": [
        {
          "output_type": "stream",
          "name": "stdout",
          "text": [
            "[1, 2]\n",
            "[1, 2]\n",
            "[1, 2]\n"
          ]
        }
      ]
    },
    {
      "cell_type": "markdown",
      "source": [
        "Since filter() is written in C and is highly optimized, its internal implicit loop can be more efficient than a regular for loop regarding execution time. This efficiency is arguably the most important advantage of using the function in Python.\n",
        "\n",
        "A second advantage of using filter() over a loop is that it returns a filter object, which is an iterator that yields values on demand, promoting a lazy evaluation strategy. Returning an iterator makes filter() more memory efficient than an equivalent for loop."
      ],
      "metadata": {
        "id": "MIwlRdRB2f-F"
      }
    },
    {
      "cell_type": "markdown",
      "source": [
        "# **reduce()**\n",
        "```reduce(f(), iterable)```\n",
        "\n",
        "applies a function to the items in an iterable two at a time, progressively combining them to produce a single result.  \n",
        "\n",
        "**reduce(f(), iterable)**  uses *f()*, which must be a function that takes exactly two arguments, to progressively combine the elements in *iterable*. To start, reduce() invokes *f()* on the first two elements of *iterable*. That result is then combined with the third element, then that result with the fourth, and so on until the list is exhausted. Then reduce() returns the final result."
      ],
      "metadata": {
        "id": "YpbdKub5Zb_g"
      }
    },
    {
      "cell_type": "markdown",
      "source": [
        "![image.png](data:image/png;base64,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)"
      ],
      "metadata": {
        "id": "8BxRKVzacaqR"
      }
    },
    {
      "cell_type": "code",
      "source": [
        "from functools import reduce\n",
        "reduce(lambda x, y: x + y, [1, 2, 3, 4, 5])"
      ],
      "metadata": {
        "colab": {
          "base_uri": "https://localhost:8080/"
        },
        "id": "kIiF3lYwHvKc",
        "outputId": "321f6f28-9186-4efc-dc45-0418331a86ad"
      },
      "execution_count": null,
      "outputs": [
        {
          "output_type": "execute_result",
          "data": {
            "text/plain": [
              "15"
            ]
          },
          "metadata": {},
          "execution_count": 16
        }
      ]
    },
    {
      "cell_type": "code",
      "source": [
        "plus = lambda a, b: a + b \n",
        "reduce(plus, [\"cat\", \"dog\", \"hedgehog\", \"gecko\"])"
      ],
      "metadata": {
        "colab": {
          "base_uri": "https://localhost:8080/",
          "height": 36
        },
        "id": "waGPsxOdHtHb",
        "outputId": "fd779458-8629-41e8-8099-69d923cf50f5"
      },
      "execution_count": null,
      "outputs": [
        {
          "output_type": "execute_result",
          "data": {
            "text/plain": [
              "'catdoghedgehoggecko'"
            ],
            "application/vnd.google.colaboratory.intrinsic+json": {
              "type": "string"
            }
          },
          "metadata": {},
          "execution_count": 17
        }
      ]
    },
    {
      "cell_type": "code",
      "source": [
        "def factorial(n):\n",
        "    return reduce(lambda x, y: x * y, range(1, n + 1))\n",
        "factorial(6)"
      ],
      "metadata": {
        "colab": {
          "base_uri": "https://localhost:8080/"
        },
        "id": "tQw8NCthHpL5",
        "outputId": "4369cf10-2300-4a6b-93ed-2bcc34ccd095"
      },
      "execution_count": null,
      "outputs": [
        {
          "output_type": "execute_result",
          "data": {
            "text/plain": [
              "720"
            ]
          },
          "metadata": {},
          "execution_count": 19
        }
      ]
    },
    {
      "cell_type": "code",
      "source": [
        "# max() function with reduce\n",
        "def gt(x, y):\n",
        "    return x if x > y else y\n",
        "reduce(gt, [23, 49, 42, 6, 329, 32])"
      ],
      "metadata": {
        "colab": {
          "base_uri": "https://localhost:8080/"
        },
        "id": "7CO0eM_8HfXL",
        "outputId": "e1c8b2e8-d781-4f5c-d4c4-02dcfd5bb3e6"
      },
      "execution_count": null,
      "outputs": [
        {
          "output_type": "execute_result",
          "data": {
            "text/plain": [
              "329"
            ]
          },
          "metadata": {},
          "execution_count": 21
        }
      ]
    },
    {
      "cell_type": "code",
      "source": [
        "# calling reduce with initial value\n",
        "# reduce(<f>, <iterable>, <init>)\n",
        "reduce(plus, [1, 2, 3, 4, 5], 100)  # (100 + 1 + 2 + 3 + 4 + 5)"
      ],
      "metadata": {
        "colab": {
          "base_uri": "https://localhost:8080/"
        },
        "id": "9_A0XwioHeOB",
        "outputId": "4dc51ca1-c4c6-45ba-aa27-dbb0d464bb3e"
      },
      "execution_count": null,
      "outputs": [
        {
          "output_type": "execute_result",
          "data": {
            "text/plain": [
              "115"
            ]
          },
          "metadata": {},
          "execution_count": 23
        }
      ]
    },
    {
      "cell_type": "markdown",
      "source": [
        "any operation on a sequence of objects can be expressed as a reduction"
      ],
      "metadata": {
        "id": "eLlBYu1VfSIp"
      }
    },
    {
      "cell_type": "code",
      "source": [
        "# custom map() in terms of reduce()\n",
        "numb = [1, 2, 3, 4, 5]\n",
        "print(list(map(str, numb)))\n",
        "print(list(map(float, numb)))"
      ],
      "metadata": {
        "colab": {
          "base_uri": "https://localhost:8080/"
        },
        "id": "1U1UhH0BHc8v",
        "outputId": "eada3f08-9f64-48cf-ccba-7066477477e8"
      },
      "execution_count": null,
      "outputs": [
        {
          "output_type": "execute_result",
          "data": {
            "text/plain": [
              "[1.0, 2.0, 3.0, 4.0, 5.0]"
            ]
          },
          "metadata": {},
          "execution_count": 29
        }
      ]
    },
    {
      "cell_type": "markdown",
      "source": [
        "# Functional programming - real python course\n",
        "Immutable\n",
        "in contratry representation of this data as dictionary allows us to change values"
      ],
      "metadata": {
        "id": "xklH_C5l2qlS"
      }
    },
    {
      "cell_type": "code",
      "source": [
        "import collections \n",
        "# create Scientist namedtuple Class \n",
        "Scientist = collections.namedtuple('Scientist', [\n",
        "    'name',\n",
        "    'field',\n",
        "    'born',\n",
        "    'nobel',\n",
        "])\n",
        "# create instance of Scientist \n",
        "# key word arguments in place of dictionary keys\n",
        "ada = Scientist(name='Ada Lovelace', field='math', born=1815, nobel=False)\n",
        "print(ada.name)\n",
        "print(ada.field)\n",
        "print(ada.born)\n",
        "print(ada.nobel)\n",
        "\n",
        "\"\"\"named tuple is immutable, you can't modify fields like in dictionary\"\"\""
      ],
      "metadata": {
        "colab": {
          "base_uri": "https://localhost:8080/",
          "height": 109
        },
        "id": "yTti8CL02v36",
        "outputId": "e0ec19ed-4e4d-4918-c653-af6c9d8296f7"
      },
      "execution_count": 1,
      "outputs": [
        {
          "output_type": "stream",
          "name": "stdout",
          "text": [
            "Ada Lovelace\n",
            "math\n",
            "1815\n",
            "False\n"
          ]
        },
        {
          "output_type": "execute_result",
          "data": {
            "text/plain": [
              "\"named tuple is immutable, you can't modify fields like in dictionary\""
            ],
            "application/vnd.google.colaboratory.intrinsic+json": {
              "type": "string"
            }
          },
          "metadata": {},
          "execution_count": 1
        }
      ]
    },
    {
      "cell_type": "code",
      "source": [
        "scientists = [\n",
        "    Scientist(name='Ada Lovelace', field='math', born=1815, nobel=False),\n",
        "    Scientist(name='Emmy Noether', field='math', born=1882, nobel=False)    \n",
        "]\n",
        "scientists\n",
        "\"\"\"in this case we can't change values on Scientist tuple, but we can still \n",
        "remove element from scientists list\"\"\""
      ],
      "metadata": {
        "id": "nsGp60UEHVbs",
        "colab": {
          "base_uri": "https://localhost:8080/",
          "height": 54
        },
        "outputId": "e676739e-c6ad-4c17-f881-9c85532e59aa"
      },
      "execution_count": 2,
      "outputs": [
        {
          "output_type": "execute_result",
          "data": {
            "text/plain": [
              "\"in this case we can't change values on Scientist tuple, but we can still \\nremove element from scientists list\""
            ],
            "application/vnd.google.colaboratory.intrinsic+json": {
              "type": "string"
            }
          },
          "metadata": {},
          "execution_count": 2
        }
      ]
    },
    {
      "cell_type": "code",
      "source": [
        "from pprint import pprint\n",
        "tscientists = (\n",
        "    Scientist(name='Ada Lovelace', field='math', born=1815, nobel=False),\n",
        "    Scientist(name='Emmy Noether', field='math', born=1882, nobel=False),\n",
        "    Scientist(name='Marie Curie', field='physics', born=1867, nobel=True),\n",
        "    Scientist(name='Tu Youyou', field='chemistry', born=1930, nobel=True),\n",
        "    Scientist(name='Ada Yonath', field='chemistry', born=1939, nobel=True),\n",
        "    Scientist(name='Vera Rubin', field='Astronomy', born=1929, nobel=False),\n",
        "    Scientist(name='Sally Ride', field='physics', born=1951, nobel=False),\n",
        ")\n",
        "\"\"\"now we can't delete elements nor we can't modify them, we can just access elements\"\"\"\n",
        "print(tscientists[2].name)\n",
        "pprint(tscientists)"
      ],
      "metadata": {
        "id": "jdaCSBg8HYhZ",
        "colab": {
          "base_uri": "https://localhost:8080/"
        },
        "outputId": "b8199014-0d14-44bc-fb59-f01b36e559fb"
      },
      "execution_count": 3,
      "outputs": [
        {
          "output_type": "stream",
          "name": "stdout",
          "text": [
            "Marie Curie\n",
            "(Scientist(name='Ada Lovelace', field='math', born=1815, nobel=False),\n",
            " Scientist(name='Emmy Noether', field='math', born=1882, nobel=False),\n",
            " Scientist(name='Marie Curie', field='physics', born=1867, nobel=True),\n",
            " Scientist(name='Tu Youyou', field='chemistry', born=1930, nobel=True),\n",
            " Scientist(name='Ada Yonath', field='chemistry', born=1939, nobel=True),\n",
            " Scientist(name='Vera Rubin', field='Astronomy', born=1929, nobel=False),\n",
            " Scientist(name='Sally Ride', field='physics', born=1951, nobel=False))\n"
          ]
        }
      ]
    },
    {
      "cell_type": "markdown",
      "source": [
        "# Applying ```filter()``` to namedtuple"
      ],
      "metadata": {
        "id": "-S4VQL8knrZn"
      }
    },
    {
      "cell_type": "code",
      "source": [
        "help(filter)"
      ],
      "metadata": {
        "colab": {
          "base_uri": "https://localhost:8080/"
        },
        "id": "eGm3WL4inqNP",
        "outputId": "86e01a0a-93c0-48ea-a4ad-6e1b9564c759"
      },
      "execution_count": 4,
      "outputs": [
        {
          "output_type": "stream",
          "name": "stdout",
          "text": [
            "Help on class filter in module builtins:\n",
            "\n",
            "class filter(object)\n",
            " |  filter(function or None, iterable) --> filter object\n",
            " |  \n",
            " |  Return an iterator yielding those items of iterable for which function(item)\n",
            " |  is true. If function is None, return the items that are true.\n",
            " |  \n",
            " |  Methods defined here:\n",
            " |  \n",
            " |  __getattribute__(self, name, /)\n",
            " |      Return getattr(self, name).\n",
            " |  \n",
            " |  __iter__(self, /)\n",
            " |      Implement iter(self).\n",
            " |  \n",
            " |  __next__(self, /)\n",
            " |      Implement next(self).\n",
            " |  \n",
            " |  __reduce__(...)\n",
            " |      Return state information for pickling.\n",
            " |  \n",
            " |  ----------------------------------------------------------------------\n",
            " |  Static methods defined here:\n",
            " |  \n",
            " |  __new__(*args, **kwargs) from builtins.type\n",
            " |      Create and return a new object.  See help(type) for accurate signature.\n",
            "\n"
          ]
        }
      ]
    },
    {
      "cell_type": "code",
      "source": [
        "\"\"\"filter function will retrun iterator with scientists that won Nobel prize\"\"\"\n",
        "filter(lambda x: x.nobel is True, tscientists)"
      ],
      "metadata": {
        "colab": {
          "base_uri": "https://localhost:8080/"
        },
        "id": "0DdYcK3roZsX",
        "outputId": "b698af0b-97ce-4906-a021-ef7d96ca410c"
      },
      "execution_count": 5,
      "outputs": [
        {
          "output_type": "execute_result",
          "data": {
            "text/plain": [
              "<filter at 0x7f9af3716950>"
            ]
          },
          "metadata": {},
          "execution_count": 5
        }
      ]
    },
    {
      "cell_type": "code",
      "source": [
        "\"\"\"filter has returned iterator from which we need to extract information\"\"\"\n",
        "nobel_prize = filter(lambda x: x.nobel is True, tscientists)\n",
        "next(nobel_prize)"
      ],
      "metadata": {
        "colab": {
          "base_uri": "https://localhost:8080/"
        },
        "id": "8CXxw_zzpuGP",
        "outputId": "7a01c4ec-da27-49b0-80ef-f1e1a67897a9"
      },
      "execution_count": 6,
      "outputs": [
        {
          "output_type": "execute_result",
          "data": {
            "text/plain": [
              "Scientist(name='Marie Curie', field='physics', born=1867, nobel=True)"
            ]
          },
          "metadata": {},
          "execution_count": 6
        }
      ]
    },
    {
      "cell_type": "code",
      "source": [
        "next(nobel_prize)"
      ],
      "metadata": {
        "colab": {
          "base_uri": "https://localhost:8080/"
        },
        "id": "XsnumY2rqogQ",
        "outputId": "d09466af-8dd3-4d06-dff0-b43003d8f988"
      },
      "execution_count": 7,
      "outputs": [
        {
          "output_type": "execute_result",
          "data": {
            "text/plain": [
              "Scientist(name='Tu Youyou', field='chemistry', born=1930, nobel=True)"
            ]
          },
          "metadata": {},
          "execution_count": 7
        }
      ]
    },
    {
      "cell_type": "code",
      "source": [
        "next(nobel_prize)"
      ],
      "metadata": {
        "colab": {
          "base_uri": "https://localhost:8080/"
        },
        "id": "pzL1BtBkq9Vv",
        "outputId": "c2a86008-ee21-41ee-8a10-20f7c35273e7"
      },
      "execution_count": 8,
      "outputs": [
        {
          "output_type": "execute_result",
          "data": {
            "text/plain": [
              "Scientist(name='Ada Yonath', field='chemistry', born=1939, nobel=True)"
            ]
          },
          "metadata": {},
          "execution_count": 8
        }
      ]
    },
    {
      "cell_type": "code",
      "source": [
        "\"\"\"turning results to immutable datatype - tuple\"\"\"\n",
        "nobel = tuple(filter(lambda x: x.nobel is True, tscientists))\n",
        "pprint(nobel)"
      ],
      "metadata": {
        "colab": {
          "base_uri": "https://localhost:8080/"
        },
        "id": "42pVi99PrN28",
        "outputId": "79dce5d4-19b8-426f-8cc6-67cc8c45c939"
      },
      "execution_count": 9,
      "outputs": [
        {
          "output_type": "stream",
          "name": "stdout",
          "text": [
            "(Scientist(name='Marie Curie', field='physics', born=1867, nobel=True),\n",
            " Scientist(name='Tu Youyou', field='chemistry', born=1930, nobel=True),\n",
            " Scientist(name='Ada Yonath', field='chemistry', born=1939, nobel=True))\n"
          ]
        }
      ]
    },
    {
      "cell_type": "code",
      "source": [
        "pprint(tuple(filter(lambda x: x.field == 'physics', tscientists)))"
      ],
      "metadata": {
        "colab": {
          "base_uri": "https://localhost:8080/"
        },
        "id": "ZqVTi0hOsRsX",
        "outputId": "aa858791-cd9f-4317-c3e3-0a330f0b16c5"
      },
      "execution_count": 10,
      "outputs": [
        {
          "output_type": "stream",
          "name": "stdout",
          "text": [
            "(Scientist(name='Marie Curie', field='physics', born=1867, nobel=True),\n",
            " Scientist(name='Sally Ride', field='physics', born=1951, nobel=False))\n"
          ]
        }
      ]
    },
    {
      "cell_type": "code",
      "source": [
        "pprint(\n",
        "    tuple(\n",
        "        filter(\n",
        "            lambda x: x.field == 'physics' and \n",
        "            x.nobel is True, \n",
        "            tscientists\n",
        "            )\n",
        "        )\n",
        "    )"
      ],
      "metadata": {
        "colab": {
          "base_uri": "https://localhost:8080/"
        },
        "id": "L0L1o411spWz",
        "outputId": "9ecfcc31-d5fa-40ed-d6e0-c0e753bfb9b3"
      },
      "execution_count": 11,
      "outputs": [
        {
          "output_type": "stream",
          "name": "stdout",
          "text": [
            "(Scientist(name='Marie Curie', field='physics', born=1867, nobel=True),)\n"
          ]
        }
      ]
    },
    {
      "cell_type": "markdown",
      "source": [
        "# Application and evaluation of function vs explicit loop"
      ],
      "metadata": {
        "id": "TodBmyELfgw5"
      }
    },
    {
      "cell_type": "code",
      "source": [
        "print(\"explicit loop\")\n",
        "\n",
        "for x in tscientists:\n",
        "    if x.nobel is True:\n",
        "        print(x)\n",
        "\n",
        "print(\"\\nfunction application and evaluation\")\n",
        "\n",
        "def nobel_filter(x):\n",
        "    return x.nobel is True\n",
        "pprint(tuple(filter(nobel_filter, tscientists)))"
      ],
      "metadata": {
        "colab": {
          "base_uri": "https://localhost:8080/"
        },
        "id": "-yuD_oXJfsXx",
        "outputId": "9d2b627d-958e-4e92-8327-2a970468d8b1"
      },
      "execution_count": 13,
      "outputs": [
        {
          "output_type": "stream",
          "name": "stdout",
          "text": [
            "explicit loop\n",
            "Scientist(name='Marie Curie', field='physics', born=1867, nobel=True)\n",
            "Scientist(name='Tu Youyou', field='chemistry', born=1930, nobel=True)\n",
            "Scientist(name='Ada Yonath', field='chemistry', born=1939, nobel=True)\n",
            "\n",
            "function application and evaluation\n",
            "(Scientist(name='Marie Curie', field='physics', born=1867, nobel=True),\n",
            " Scientist(name='Tu Youyou', field='chemistry', born=1930, nobel=True),\n",
            " Scientist(name='Ada Yonath', field='chemistry', born=1939, nobel=True))\n"
          ]
        }
      ]
    },
    {
      "cell_type": "markdown",
      "source": [
        "# Pythonic version of filter function"
      ],
      "metadata": {
        "id": "ekxnCcMNnHA2"
      }
    },
    {
      "cell_type": "code",
      "source": [
        "# list comperhension \n",
        "pprint([x for x in tscientists if x.nobel is True])"
      ],
      "metadata": {
        "colab": {
          "base_uri": "https://localhost:8080/"
        },
        "id": "x_VhTH05fe8B",
        "outputId": "2be2749f-8974-4142-bdc9-776f05a22d11"
      },
      "execution_count": 14,
      "outputs": [
        {
          "output_type": "stream",
          "name": "stdout",
          "text": [
            "[Scientist(name='Marie Curie', field='physics', born=1867, nobel=True),\n",
            " Scientist(name='Tu Youyou', field='chemistry', born=1930, nobel=True),\n",
            " Scientist(name='Ada Yonath', field='chemistry', born=1939, nobel=True)]\n"
          ]
        }
      ]
    },
    {
      "cell_type": "code",
      "source": [
        "# list comperhension to tuple \n",
        "pprint(tuple([x for x in tscientists if x.nobel is True]))\n"
      ],
      "metadata": {
        "colab": {
          "base_uri": "https://localhost:8080/"
        },
        "id": "tZ8Nj8aneiqE",
        "outputId": "c13c541a-492d-40cc-a1e5-9b9b07b6a1cc"
      },
      "execution_count": 15,
      "outputs": [
        {
          "output_type": "stream",
          "name": "stdout",
          "text": [
            "(Scientist(name='Marie Curie', field='physics', born=1867, nobel=True),\n",
            " Scientist(name='Tu Youyou', field='chemistry', born=1930, nobel=True),\n",
            " Scientist(name='Ada Yonath', field='chemistry', born=1939, nobel=True))\n"
          ]
        }
      ]
    },
    {
      "cell_type": "markdown",
      "source": [
        "# Generators:  \n",
        "Generator functions allow you to declare a function that behaves like an iterator, i.e. it can be used in a for loop.  \n",
        "https://wiki.python.org/moin/Generators\n",
        "\n",
        "we can turn a list comprehension into a generator expression by replacing the square brackets (\"[ ]\") with parentheses. Alternately, we can think of list comprehensions as generator expressions wrapped in a list constructor.  \n",
        "\n",
        "```\n",
        "   # list comprehension\n",
        "   doubles = [2 * n for n in range(50)]\n",
        "   \n",
        "   # same as the list comprehension above\n",
        "   doubles = list(2 * n for n in range(50))\n",
        "```\n",
        "\n",
        "This also means that we can use the same syntax we have been using for list comprehensions to build generators.  \n",
        "\n",
        "**The performance improvement from the use of generators is the result of the lazy (on demand) generation of values, which translates to lower memory usage.**\n",
        "\n",
        "We don't build full list in memory!   \n",
        "Say, we had to compute the sum of the first n, say 1,000,000, non-negative numbers.\n",
        "```\n",
        "# Note: Python 2.x only\n",
        "# using a non-generator\n",
        "sum_of_first_n = sum(range(1000000)) \n",
        "# using a generator\n",
        "sum_of_first_n = sum(xrange(1000000))\n",
        "```\n",
        "Note that both lines are identical in form, but the one using range is much more expensive.\n",
        "\n",
        "When we use range we build a 1,000,000 element list in memory and then find its sum. This is a waste, considering that we use these 1,000,000 elements just to compute the sum.\n",
        "\n",
        "This waste becomes more pronounced as the number of elements (our n) becomes larger, the size of our elements become larger, or both.\n",
        "\n",
        "On the other hand, when we use xrange, we do not incur the cost of building a 1,000,000 element list in memory. The generator created by xrange will generate each number, which sum will consume to accumulate the sum. \n",
        "**Note:** a generator will provide performance benefits only if we do not intend to use that set of generated values more than once."
      ],
      "metadata": {
        "id": "Dl6C5kcapaer"
      }
    },
    {
      "cell_type": "code",
      "source": [
        "# generator experssion directly to tuple \n",
        "pprint(tuple(x for x in tscientists if x.nobel is True))"
      ],
      "metadata": {
        "colab": {
          "base_uri": "https://localhost:8080/"
        },
        "id": "oyJ9at59pXxC",
        "outputId": "9aceec06-b435-408b-a4b0-44549e25a587"
      },
      "execution_count": 16,
      "outputs": [
        {
          "output_type": "stream",
          "name": "stdout",
          "text": [
            "(Scientist(name='Marie Curie', field='physics', born=1867, nobel=True),\n",
            " Scientist(name='Tu Youyou', field='chemistry', born=1930, nobel=True),\n",
            " Scientist(name='Ada Yonath', field='chemistry', born=1939, nobel=True))\n"
          ]
        }
      ]
    },
    {
      "cell_type": "markdown",
      "source": [
        "# The ```map()``` function"
      ],
      "metadata": {
        "id": "IqyPowU4uaxO"
      }
    },
    {
      "cell_type": "code",
      "source": [
        "help(map)"
      ],
      "metadata": {
        "colab": {
          "base_uri": "https://localhost:8080/"
        },
        "id": "iYtYZW-OupCd",
        "outputId": "3ed20a4c-15ea-4087-894d-6cd1946e9d49"
      },
      "execution_count": 17,
      "outputs": [
        {
          "output_type": "stream",
          "name": "stdout",
          "text": [
            "Help on class map in module builtins:\n",
            "\n",
            "class map(object)\n",
            " |  map(func, *iterables) --> map object\n",
            " |  \n",
            " |  Make an iterator that computes the function using arguments from\n",
            " |  each of the iterables.  Stops when the shortest iterable is exhausted.\n",
            " |  \n",
            " |  Methods defined here:\n",
            " |  \n",
            " |  __getattribute__(self, name, /)\n",
            " |      Return getattr(self, name).\n",
            " |  \n",
            " |  __iter__(self, /)\n",
            " |      Implement iter(self).\n",
            " |  \n",
            " |  __next__(self, /)\n",
            " |      Implement next(self).\n",
            " |  \n",
            " |  __reduce__(...)\n",
            " |      Return state information for pickling.\n",
            " |  \n",
            " |  ----------------------------------------------------------------------\n",
            " |  Static methods defined here:\n",
            " |  \n",
            " |  __new__(*args, **kwargs) from builtins.type\n",
            " |      Create and return a new object.  See help(type) for accurate signature.\n",
            "\n"
          ]
        }
      ]
    },
    {
      "cell_type": "markdown",
      "source": [
        "# Iterator:  \n",
        "An iterator is an object representing a stream of data; this object returns the data one element at a time. A Python iterator must support a method called __next__() that takes no arguments and always returns the next element of the stream. If there are no more elements in the stream, __next__() must raise the StopIteration exception. Iterators don’t have to be finite, though; it’s perfectly reasonable to write an iterator that produces an infinite stream of data.\n",
        "\n",
        "An object is called iterable if you can get an iterator for it.  \n",
        "\n",
        "Note that **you can only go forward in an iterator**; there’s no way to get the previous element, reset the iterator, or make a copy of it. \n",
        "\n",
        "https://docs.python.org/3/howto/functional.html?highlight=iterator#functional-howto-iterators"
      ],
      "metadata": {
        "id": "szHezhDDvKev"
      }
    },
    {
      "cell_type": "code",
      "source": [
        "names_and_ages = tuple(map(\n",
        "    lambda x: {'name': x.name, 'age': 2022 - x.born},\n",
        "    tscientists\n",
        "))\n",
        "pprint(names_and_ages)"
      ],
      "metadata": {
        "colab": {
          "base_uri": "https://localhost:8080/"
        },
        "id": "_7Q7QbPb7C3f",
        "outputId": "3e49f331-818d-43a3-ecc7-7081e04fdb99"
      },
      "execution_count": 18,
      "outputs": [
        {
          "output_type": "stream",
          "name": "stdout",
          "text": [
            "({'age': 207, 'name': 'Ada Lovelace'},\n",
            " {'age': 140, 'name': 'Emmy Noether'},\n",
            " {'age': 155, 'name': 'Marie Curie'},\n",
            " {'age': 92, 'name': 'Tu Youyou'},\n",
            " {'age': 83, 'name': 'Ada Yonath'},\n",
            " {'age': 93, 'name': 'Vera Rubin'},\n",
            " {'age': 71, 'name': 'Sally Ride'})\n"
          ]
        }
      ]
    }
  ]
}